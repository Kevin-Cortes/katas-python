{
  "nbformat": 4,
  "nbformat_minor": 0,
  "metadata": {
    "colab": {
      "name": "modulo4Katas.ipynb",
      "provenance": [],
      "authorship_tag": "ABX9TyNk6UWAiscfYhv3dWqJOQcv"
    },
    "kernelspec": {
      "name": "python3",
      "display_name": "Python 3"
    },
    "language_info": {
      "name": "python"
    }
  },
  "cells": [
    {
      "cell_type": "markdown",
      "source": [
        "# Ejercicio 1: Transformar cadenas.\n",
        "Hay varias operaciones que puedes realizar en las cadenas cuando las manipulamos. En este ejercicio, usarás métodos de caena para modificar el texto con hechos sobre la Luna y luego extraerás información para crear un breve resumen.\n",
        "\n",
        "> **Nota.**\n",
        "> Dedica unos minutos a tratar de encontrar una solución. Luego desplázate hacia abajo hasta la parte inferior para ver si has logrado complicar el programa de acuerdo a las especificaciones.\n",
        "\n",
        "El texto con el que trabajarás es el siguiente:"
      ],
      "metadata": {
        "id": "E4NZR3fFCv5K"
      }
    },
    {
      "cell_type": "code",
      "source": [
        "text = \"\"\"Interesting facts about the Moon. The Moon is Earth's only satellite. There are several interesting facts about the Moon and how it affects life here on Earth. \n",
        "On average, the Moon moves 4cm away from the Earth every year. This yearly drift is not significant enough to cause immediate effects on Earth. The highest daylight temperature of the Moon is 127 C.\"\"\""
      ],
      "metadata": {
        "id": "OqfSSaq0D0Jg"
      },
      "execution_count": 2,
      "outputs": []
    },
    {
      "cell_type": "markdown",
      "source": [
        "Primero, divide el texto en cada oración para trabajar con su contenido:"
      ],
      "metadata": {
        "id": "EyhSW5bpD31e"
      }
    },
    {
      "cell_type": "code",
      "source": [
        "# Añade el código necesario.\n",
        "\n",
        "text_parts = text.split('. ')\n",
        "text_parts"
      ],
      "metadata": {
        "id": "ODnPOYppEGDL",
        "colab": {
          "base_uri": "https://localhost:8080/"
        },
        "outputId": "5abf1981-7d98-4e3f-df49-6d9643cd9840"
      },
      "execution_count": 3,
      "outputs": [
        {
          "output_type": "execute_result",
          "data": {
            "text/plain": [
              "['Interesting facts about the Moon',\n",
              " \"The Moon is Earth's only satellite\",\n",
              " 'There are several interesting facts about the Moon and how it affects life here on Earth',\n",
              " '\\nOn average, the Moon moves 4cm away from the Earth every year',\n",
              " 'This yearly drift is not significant enough to cause immediate effects on Earth',\n",
              " 'The highest daylight temperature of the Moon is 127 C.']"
            ]
          },
          "metadata": {},
          "execution_count": 3
        }
      ]
    },
    {
      "cell_type": "markdown",
      "source": [
        "Ahora, define algunas palabras clave para búsqueda que te ayudarán a determinar si una oración contiene un hecho."
      ],
      "metadata": {
        "id": "AiaxaQerELfe"
      }
    },
    {
      "cell_type": "code",
      "source": [
        "# Define las palabras pista:  average, temperature y distance suena bien.\n",
        "\n",
        "words = [ \"average\", \"temperature\", \"distance\" ]"
      ],
      "metadata": {
        "id": "n-R5vzxXEb8M"
      },
      "execution_count": 4,
      "outputs": []
    },
    {
      "cell_type": "markdown",
      "source": [
        "Cree un bucle para imprimir solo datos sobre la Luna que estén relacionados con las palabras clave definidas anteriormente:"
      ],
      "metadata": {
        "id": "pjeHb5u9EmPc"
      }
    },
    {
      "cell_type": "code",
      "source": [
        "# Ciclo for para recorrer la cadena.\n",
        "\n",
        "for sentence in text_parts:\n",
        "  for word in words:\n",
        "    if word in sentence:\n",
        "      print(sentence)"
      ],
      "metadata": {
        "id": "d_E_G4PCE06t",
        "colab": {
          "base_uri": "https://localhost:8080/"
        },
        "outputId": "81233fbe-670b-4c0b-eaaf-25ae9365c969"
      },
      "execution_count": 5,
      "outputs": [
        {
          "output_type": "stream",
          "name": "stdout",
          "text": [
            "\n",
            "On average, the Moon moves 4cm away from the Earth every year\n",
            "The highest daylight temperature of the Moon is 127 C.\n"
          ]
        }
      ]
    },
    {
      "cell_type": "markdown",
      "source": [
        "Finalmente, actualiza el bucle (ciclo) para cambiar _C_ a _Celsius_:"
      ],
      "metadata": {
        "id": "H_4nI5j9E9dO"
      }
    },
    {
      "cell_type": "code",
      "source": [
        "# Ciclo para cambiar C a Celsius.\n",
        "\n",
        "for sentence in text_parts:\n",
        "  for word in words:\n",
        "    if word in sentence:\n",
        "      print(sentence.replace( \"C\", \"Celsius\"))"
      ],
      "metadata": {
        "id": "91fSghzEFMvo",
        "colab": {
          "base_uri": "https://localhost:8080/"
        },
        "outputId": "a20aa458-eaac-4e47-fcdf-df3eeae4b667"
      },
      "execution_count": 6,
      "outputs": [
        {
          "output_type": "stream",
          "name": "stdout",
          "text": [
            "\n",
            "On average, the Moon moves 4cm away from the Earth every year\n",
            "The highest daylight temperature of the Moon is 127 Celsius.\n"
          ]
        }
      ]
    },
    {
      "cell_type": "markdown",
      "source": [
        "> Recuerda: Lo importante es intentarlo, puede auxiliarte de internet, libros, etc. El objetivo de una kata es la comprobación de la comprensión de la lección y su aplicación inmediata a la resolución de problemas. Go for it!"
      ],
      "metadata": {
        "id": "LTwsgRqxFThV"
      }
    },
    {
      "cell_type": "markdown",
      "source": [
        "# Ejercicio 2: Formatenado cadenas.\n",
        "\n",
        "Saber cómo dar formato a las cadenas es escencial cuando se presenta información de un programa. Hay algunas maneras diferentes de lograr esto en Python. En este ejercicio, se utilizan variables que contienen datos clave sobre la gravedad en varias lunas y luego se utilizan para dar formato e imprimir la información.\n",
        "\n",
        "El formato tiene que acomodar información sobre otras lunas, por lo que debe ser genérico.\n",
        "\n",
        "En lugar de remplazar las variables en una cadena larga como parte de un párrafo, utiliza la información para presentarla en un formato tabular. El resultado debería verse así:\n",
        "\n",
        "```\n",
        "Gravity Facts about Ganymede\n",
        "------------------------------------------------------------------\n",
        "Planet Name: Mars\n",
        "Gravity on Ganymede: 1.4300000000000002 m/s2\n",
        "```"
      ],
      "metadata": {
        "id": "v-oJVUdHFxI_"
      }
    },
    {
      "cell_type": "code",
      "source": [
        "# Datos con los que vas a trabajar\n",
        "name    = \"Moon\"\n",
        "gravity = 0.00162 # in  kms\n",
        "planet  = \"Earth\""
      ],
      "metadata": {
        "id": "7MtOjGYTHXgc"
      },
      "execution_count": 7,
      "outputs": []
    },
    {
      "cell_type": "markdown",
      "source": [
        "Primero, crea un título para el texto. Debido a que este texto trata sobre la gravedad en la Tierra y la Luna, úsalo para crear un título significativo. Utiliza las variables en lugar de escribir."
      ],
      "metadata": {
        "id": "Q3A5ztm0Hq1J"
      }
    },
    {
      "cell_type": "code",
      "source": [
        "# Creamos el título.\n",
        "\n",
        "title = \"Gravity in {1} and {0}\".format( name, planet )\n",
        "title"
      ],
      "metadata": {
        "id": "TIHmI8yqIC_t",
        "colab": {
          "base_uri": "https://localhost:8080/",
          "height": 35
        },
        "outputId": "ec564522-dabc-479d-8e9d-a488d440bd34"
      },
      "execution_count": 8,
      "outputs": [
        {
          "output_type": "execute_result",
          "data": {
            "application/vnd.google.colaboratory.intrinsic+json": {
              "type": "string"
            },
            "text/plain": [
              "'Gravity in Earth and Moon'"
            ]
          },
          "metadata": {},
          "execution_count": 8
        }
      ]
    },
    {
      "cell_type": "markdown",
      "source": [
        "Ahora crea una plantilla de cadena multilínea para contener el resto de la información. En lugar de usar kilómetros, debes convertir la distancia a metros multiplicando por 1,000."
      ],
      "metadata": {
        "id": "Sgmc2QtTIGb4"
      }
    },
    {
      "cell_type": "code",
      "source": [
        "# Creamos la plantilla.\n",
        "\n",
        "data = f\"\"\"\n",
        "Name of planet: {planet}.\n",
        "Gravity in {name}: {gravity*1000} m/s^2\n",
        "\"\"\"\n",
        "print(data)"
      ],
      "metadata": {
        "id": "1oGZveGeIgU7",
        "colab": {
          "base_uri": "https://localhost:8080/"
        },
        "outputId": "11b210fa-5a05-4665-a7b5-6dc3f2401857"
      },
      "execution_count": 9,
      "outputs": [
        {
          "output_type": "stream",
          "name": "stdout",
          "text": [
            "\n",
            "Name of planet: Earth.\n",
            "Gravity in Moon: 1.6199999999999999 m/s^2\n",
            "\n"
          ]
        }
      ]
    },
    {
      "cell_type": "markdown",
      "source": [
        "Finalmente, usa ambas variables para unir el título y los hechos."
      ],
      "metadata": {
        "id": "1tGJQTgXInaJ"
      }
    },
    {
      "cell_type": "code",
      "source": [
        "# Unión de ambas cadenas.\n",
        "\n",
        "oracion = f\"\"\"\n",
        "{title.title()}\n",
        "{data}\n",
        "\"\"\"\n",
        "print(oracion)"
      ],
      "metadata": {
        "id": "_J9CGjpUIwqI",
        "colab": {
          "base_uri": "https://localhost:8080/"
        },
        "outputId": "643ea31c-0ea7-4a74-9b52-5854de201255"
      },
      "execution_count": 10,
      "outputs": [
        {
          "output_type": "stream",
          "name": "stdout",
          "text": [
            "\n",
            "Gravity In Earth And Moon\n",
            "\n",
            "Name of planet: Earth.\n",
            "Gravity in Moon: 1.6199999999999999 m/s^2\n",
            "\n",
            "\n"
          ]
        }
      ]
    },
    {
      "cell_type": "markdown",
      "source": [
        "Ahora usa información de una luna diferente para ver si la plantilla todavía funciona.\n",
        "\n",
        "Datos muestra:\n",
        "```\n",
        "planet  = 'Marte'\n",
        "gravity = 0.00143\n",
        "name   = 'Ganímedes'\n",
        "```"
      ],
      "metadata": {
        "id": "LH8K8y6pI07l"
      }
    },
    {
      "cell_type": "code",
      "source": [
        "# Comprueba la plantilla.\n",
        "# print(nombre_plantilla)\n",
        "\n",
        "planet  = 'Marte'\n",
        "gravity = 0.00143\n",
        "name   = 'Ganímedes'\n",
        "print(data)"
      ],
      "metadata": {
        "id": "axPn_J_EJYXu",
        "colab": {
          "base_uri": "https://localhost:8080/"
        },
        "outputId": "65d2fa51-4a67-4835-9af6-9ba30e4e64cf"
      },
      "execution_count": 11,
      "outputs": [
        {
          "output_type": "stream",
          "name": "stdout",
          "text": [
            "\n",
            "Name of planet: Earth.\n",
            "Gravity in Moon: 1.6199999999999999 m/s^2\n",
            "\n"
          ]
        }
      ]
    },
    {
      "cell_type": "markdown",
      "source": [
        "La salida no muestra información sobre Marte. Todavía muestra información sobre la Luna. Esto sucede porque las cadenas f están ansiosas en su evaluación, por lo que las variables una vez asignadas no se pueden reasignar. Para evitar este problema, vuelva a hacer la plantilla para utilizar .format():"
      ],
      "metadata": {
        "id": "1RUvq4EEJjgq"
      }
    },
    {
      "cell_type": "code",
      "source": [
        "# Nueva plantilla.\n",
        "\n",
        "nueva_plantilla = \"Name of planet: {0}. \\nGravity in {1}: {2} m/s^2\".format( planet, name, gravity )\n",
        "print( nueva_plantilla )\n"
      ],
      "metadata": {
        "id": "rfU1jj_EKKl2",
        "colab": {
          "base_uri": "https://localhost:8080/"
        },
        "outputId": "61ffb5dd-3444-4564-9c49-2bbeb21ccf02"
      },
      "execution_count": 12,
      "outputs": [
        {
          "output_type": "stream",
          "name": "stdout",
          "text": [
            "Name of planet: Marte. \n",
            "Gravity in Ganímedes: 0.00143 m/s^2\n"
          ]
        }
      ]
    },
    {
      "cell_type": "markdown",
      "source": [
        "Debido a que .format() no permite expresiones, la gravedad en Ganímedes es incorrecta. Asegúrese de que la operación se realiza fuera de la plantilla de formato e imprima de nuevo para ver el resultado de trabajo."
      ],
      "metadata": {
        "id": "scdRfiBnKNmn"
      }
    },
    {
      "cell_type": "code",
      "source": [
        "# Pista: print(nueva_plantilla.format(variables))\n",
        "\n",
        "nueva_plantilla = \"Name of planet: {0}. \\nGravity in {1}: {2} m/s^2\".format( planet, name, gravity * 1000 )\n",
        "print( nueva_plantilla )"
      ],
      "metadata": {
        "id": "jFkSpAW2KnhX",
        "colab": {
          "base_uri": "https://localhost:8080/"
        },
        "outputId": "e3b77c73-221a-4b35-da88-0610a8af06f5"
      },
      "execution_count": 15,
      "outputs": [
        {
          "output_type": "stream",
          "name": "stdout",
          "text": [
            "Name of planet: Marte. \n",
            "Gravity in Ganímedes: 1.4300000000000002 m/s^2\n"
          ]
        }
      ]
    }
  ]
}