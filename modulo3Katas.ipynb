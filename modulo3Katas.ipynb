{
  "nbformat": 4,
  "nbformat_minor": 0,
  "metadata": {
    "colab": {
      "name": "modulo3Katas.ipynb",
      "provenance": [],
      "authorship_tag": "ABX9TyNRzVyUeRwQUchetGGu2+it"
    },
    "kernelspec": {
      "name": "python3",
      "display_name": "Python 3"
    },
    "language_info": {
      "name": "python"
    }
  },
  "cells": [
    {
      "cell_type": "markdown",
      "source": [
        "# Ejercicio -Escribir declaraciones `if`, `else` y `elif`.\n",
        "\n",
        "Las instrucciones `If` te permiten ejecutar condicionalmente código Python. Se usan comúnmente en Python para \"tomar decisiones\" sobre lo que debería suceder a continuación mientras se ejecuta un programa.\n",
        "\n",
        "Para crear una instrucción `if` en Python, define una expresión de prueba que pueda tener un valor `True` o `False`, seguido de un bloque de código con sangría que se ejecutará si se cumple la condición.\n",
        "\n",
        "```python\n",
        "if expresion_prueba:\n",
        "  # instrucción(es) a ejecutar\n",
        "```\n",
        "\n",
        "Para escribir un programa con una lógica condicional más compleja, puedes agregar instrucciones `else` y `elif` al bloque de código. También puede anidar instrucciones condicionales.\n",
        "\n",
        "```python\n",
        "if expresion_prueba:\n",
        "  # instrucción(es) a ejecutar\n",
        "  if expresion_prueba:\n",
        "    # instrucción(es) a ejecutar\n",
        "  else:\n",
        "    # instrucción(es) a ejecutar\n",
        "elif expresion_prueba:\n",
        "  # instrucción(es) a ejecutar\n",
        "else:\n",
        "  # instrucción(es) a ejecutar\n",
        "``` \n",
        "\n",
        "> **TIP**\n",
        "> Dedica unos minutos a tratar de encontrar una solución. Luego desplázate hacia abajo hasta la parte inferior para ver si has logrado compilar el programa de acuerdo con las especificaciones.\n",
        "\n",
        "Para este ejercicio, escribirás una lógica condicional que imprima una advertencia si un asteroide se acerca a la Tierra demasiado rápido. La velocidad del asteroide varía dependiendo de lo cerca que esté del sol, y cualquier velocidad superior a 25 kilómetros por segundo (km/s) merece una dvertencia.\n",
        "\n",
        "Un asteroide se acerca , y viaja a una velocidad de 49 km/s.\n"
      ],
      "metadata": {
        "id": "ng0w9O-4oyqZ"
      }
    },
    {
      "cell_type": "code",
      "source": [
        "# Añadir el código necesario para crear una variable que guarde la velocidad del asteroide.\n",
        "# Escribe una expresión de prueba para calcular si se necesita una advertencia.\n",
        "# Agregue las instrucciones que se ejecutarán si la expresión de prueba es true o false.\n",
        "\n",
        "asteroide = 49\n",
        "if asteroide > 25:\n",
        "  print(\"¡Peligro! Un asteroide se acerca.\")\n",
        "else:\n",
        "  print(\"Nada de que preocuparse\")\n"
      ],
      "metadata": {
        "id": "fYXXnXmjtmcG",
        "colab": {
          "base_uri": "https://localhost:8080/"
        },
        "outputId": "c59d08e7-ea2f-4ef4-b08b-d930662203d1"
      },
      "execution_count": 2,
      "outputs": [
        {
          "output_type": "stream",
          "name": "stdout",
          "text": [
            "¡Peligro! Un asteroide se acerca.\n"
          ]
        }
      ]
    },
    {
      "cell_type": "markdown",
      "source": [
        "Si un asteroide entra en la atmósfera de la Tierra a una velocidad mayor o igual a 20 km/s, a veces produce un rayo de luz que se puede  ver desde la Tierra. Escribe la lógica condicional que usa declaraciones `if`, `else` y `elif` para alertar a las personas de todo el mundo que deben buscar un asteroide en el cielo. ¡Hay uno que se dirige a la tierra ahora a una velocidad de 19 km/s!"
      ],
      "metadata": {
        "id": "L_J-E5-ZuBSv"
      }
    },
    {
      "cell_type": "code",
      "source": [
        "# Agrega el código para crear una  variable  para un asteroide que viaja a 19 km/s.\n",
        "# Escribe varias expresiones de prueba para determinar si puedes ver el rayo de luz desde la tierra.\n",
        "# Agrega las instrucciones que se ejecutarán si las expresiones de prueba son True o False.\n",
        "\n",
        "asteroide = 19\n",
        "if asteroide > 19:\n",
        "  print(\"Luces en el cielo!\")\n",
        "else:\n",
        "  print(\"El cielo se encuentra despejado.\")\n"
      ],
      "metadata": {
        "id": "hc1VZbyPv875",
        "colab": {
          "base_uri": "https://localhost:8080/"
        },
        "outputId": "15d2f567-24df-423e-ad40-a8ef2d33010b"
      },
      "execution_count": 3,
      "outputs": [
        {
          "output_type": "stream",
          "name": "stdout",
          "text": [
            "El cielo se encuentra despejado.\n"
          ]
        }
      ]
    },
    {
      "cell_type": "markdown",
      "source": [
        "# Ejercicio: Uso de operadores `and` y `or`.\n",
        "\n",
        "En el ejercicio anterior, trabajó con sentencias `if`, `else`, y `elif` para escribir programas con lógica condicional compleja. Para crear expresiones booleanas aún más interesantes, puede usar los operadores `and` y `or` en Python.\n",
        "\n",
        "Las expresiones `and` son sólo si ambas subexpresiones son verdaderas.\n",
        "\n",
        "`expresión1 and expresión2`\n",
        "\n",
        "Las expresiones `or` son `True` si *al menos una* subexpresión es verdadera.\n",
        "\n",
        "`expresión1 or expresión2`\n",
        "\n",
        "En este ejercicio, aprenderás información más matizada sobre cuándo los asteroides representan un peligro para la Tierra, y utilizarás esa infromacón para mejorar nuestro sistema de advertencia. Aquí está la nueva información que necesitas saber:\n",
        "\n",
        "* Los asteroides de menos de 25 metros en su dimensión más grande probablemnete se quemarán a medida que entren en la atmósfera de la Tierra.\n",
        "* Si una pieza de un asteroide que es más grande que 25 metros pero más pequeña que 1000 metros golpeara la Tierra, causaría mucho daño.\n",
        "\n",
        "También discutimos en el ejercicio anterior que:\n",
        "\n",
        "* La velocidad del asteroide varía en función de lo cerca que esté del sol, y cualquier velocidad superior a 25 kilómetros por segundo (km/s) merece una advertencia.\n",
        "* Si un asteroide entra en la atmósfera de la Tierra a una velocidad mayor o igual a 20 km/s, a veces produce un rayo de luz que se puede ver desde la Tierra.\n",
        "\n",
        "Usando toda esta infromación, escribe un programa que emita la advertencia o información correcta a la gente de la Tierra, según la velocidad y el tamaño de un asteroide. Utiliza instrucciones `if`, `else`, y `elif`, así como los operadores `and` y `or`."
      ],
      "metadata": {
        "id": "ekskyyLTiW_z"
      }
    },
    {
      "cell_type": "code",
      "source": [
        "# Agrega el código para crear nuevas variables para la velocidad y el tamaño del asteroide.\n",
        "# Para probar el código, prueba con varias velocidades y tamaño.\n",
        "# Escribe varias expresiones de prueba o combinaciones de expresiones de prueba para determinar qué mensaje se debe enviar a Tierra.\n",
        "\n",
        "velocidad_asteroide = 19\n",
        "tamaño_asteroide = 26\n",
        "if tamaño_asteroide > 25 and velocidad_asteroide > 19:\n",
        "  print(\"¡Peligro! Un asteroide se acerca.\")\n",
        "elif tamaño_asteroide > 25 and velocidad_asteroide < 20:\n",
        "  print(\"¡Peligro! Un asteroide se acerca.\")\n",
        "elif velocidad_asteroide > 19:\n",
        "  print(\"!Luces en el cielo!\")\n",
        "else:\n",
        "  print(\"Nada que ver\")\n"
      ],
      "metadata": {
        "colab": {
          "base_uri": "https://localhost:8080/"
        },
        "id": "I12CL_PTmgk3",
        "outputId": "e210d516-7872-4398-d2ce-56521083b23f"
      },
      "execution_count": 7,
      "outputs": [
        {
          "output_type": "stream",
          "name": "stdout",
          "text": [
            "¡Peligro! Un asteroide se acerca.\n"
          ]
        }
      ]
    }
  ]
}