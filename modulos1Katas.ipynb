{
  "nbformat": 4,
  "nbformat_minor": 0,
  "metadata": {
    "colab": {
      "name": "modulos1Katas.ipynb",
      "provenance": [],
      "authorship_tag": "ABX9TyOXcAEMZEn7MRzGTnJ3A07w"
    },
    "kernelspec": {
      "name": "python3",
      "display_name": "Python 3"
    },
    "language_info": {
      "name": "python"
    }
  },
  "cells": [
    {
      "cell_type": "markdown",
      "source": [
        "Oficial superior > \"¿Cadete?\".\n",
        "\n",
        "Usted > \"¿Sí, señora?\".\n",
        "\n",
        "Oficial superior > \"¿Puede construir un programa que me muestre la fecha? La computadora del barco no venía con mucho en términos de programas de utilidad, por lo que necesitamos crear los que necesitamos. ¿Puedo condfiar en ti con esto?\".\n",
        "\n",
        "Usted > \"Considéralo hecho\".\n",
        "\n",
        "Oficial superior > \"Excelente\".\n",
        "\n",
        "## Tu primer programa.\n",
        "\n",
        "Para crer este programa, deberás utilizar los conceptos que aprendiste en el último módulo. Usarás Jupyter Notebook en este ejercicio, que es una combinación de texto y código cn la que puedes interarctuar. Finaliza el código siguiente para que el resultado muestre la fecha de hoy."
      ],
      "metadata": {
        "id": "WSvKF2xYQ4zs"
      }
    },
    {
      "cell_type": "code",
      "source": [
        "from datetime import date\n",
        "\n",
        "print( \"Today's dte is: \" + str( date.today() ) )"
      ],
      "metadata": {
        "colab": {
          "base_uri": "https://localhost:8080/"
        },
        "id": "vXTD3zMLQ_ts",
        "outputId": "b88f1fc1-b4da-46c7-ae0b-5246a60be064"
      },
      "execution_count": 3,
      "outputs": [
        {
          "output_type": "stream",
          "name": "stdout",
          "text": [
            "Today's dte is: 2022-02-11\n"
          ]
        }
      ]
    },
    {
      "cell_type": "markdown",
      "source": [
        "> **TIP**\n",
        "> Dedique unos minutos a tratar de encontrar solución. Luego desplácese hacia abajo hasta la parte inferior para ver si ha logrado compilar el programa de acuerdo con las especificaciones.\n",
        "\n",
        "## Construir un convertidor de unidades.\n",
        "\n",
        "El oficial superior > \"Necesito una cosa más: un programa de conversión entre parsecs y años luz. Tener un programa de este tipo podría ser realmente útil en el puente pra trazar nuestro curso\".\n",
        "\n",
        "Tú > \"¡Lo haré!\"."
      ],
      "metadata": {
        "id": "7y0rPTwMRLzh"
      }
    },
    {
      "cell_type": "code",
      "source": [
        "parsec     = 11\n",
        "lightyears = 3.26156 * parsec\n",
        "\n",
        "print( str( parsec ) + \" parsec, is \" + str( lightyears ) + \" lightyears.\" )"
      ],
      "metadata": {
        "colab": {
          "base_uri": "https://localhost:8080/"
        },
        "id": "P2FpxbZzT0vI",
        "outputId": "f8bb991e-4f33-4e6f-b4bc-f891a8a70c4a"
      },
      "execution_count": 4,
      "outputs": [
        {
          "output_type": "stream",
          "name": "stdout",
          "text": [
            "11 parsec, is 35.877159999999996 lightyears.\n"
          ]
        }
      ]
    },
    {
      "cell_type": "markdown",
      "source": [
        "> **TIP**\n",
        "> 1 prsec es 3.26156 años luz. Utiliza el operador de multiplicación."
      ],
      "metadata": {
        "id": "vf9kIBF2UOhl"
      }
    }
  ]
}