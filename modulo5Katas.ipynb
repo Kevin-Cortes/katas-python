{
  "nbformat": 4,
  "nbformat_minor": 0,
  "metadata": {
    "colab": {
      "name": "modulo5Katas.ipynb",
      "provenance": [],
      "authorship_tag": "ABX9TyPrvf53BF4G1a5TvNrx4fD9"
    },
    "kernelspec": {
      "name": "python3",
      "display_name": "Python 3"
    },
    "language_info": {
      "name": "python"
    }
  },
  "cells": [
    {
      "cell_type": "markdown",
      "metadata": {
        "id": "hFE8pkhqOG89"
      },
      "source": [
        "# Ejercicio1 - Utilizar operadores aritméticos"
      ]
    },
    {
      "cell_type": "markdown",
      "metadata": {
        "id": "lMOshg3jOG9Q"
      },
      "source": [
        "### Operadores aritméticos en Python\n",
        "Python proporciona operadores aritméticos comunes para que puedas realizar operaciones matemáticas en tu código. Estos incluyen las cuatro operaciones principales de suma, resta, multiplicación y división.\n",
        "\n",
        "Exploremos cómo podemos crear un programa que pueda calcular la distancia entre dos planetas.  Comenzaremos usando dos distancias de planetas: Tierra (149.597.870 km) y Júpiter (778.547.200 km).\n",
        "\n",
        "> **TIP**\n",
        "> Dedica unos minutos a tratar de encontrar una solución. Luego desplázate hacia abajo hasta la parte inferior para ver si has logrado compilar el programa de acuerdo con las especificaciones.\n",
        "\n",
        "**Nota:** Quita las comas cuando uses los valores."
      ]
    },
    {
      "cell_type": "code",
      "execution_count": 3,
      "metadata": {
        "id": "O-FRhwYqOG9U"
      },
      "outputs": [],
      "source": [
        "# Crear variables para almacenar las dos distancias\n",
        "# ¡Asegúrate de quitar las comas!\n",
        "\n",
        "tierra = 149597870\n",
        "jupiter = 778547200 "
      ]
    },
    {
      "cell_type": "markdown",
      "metadata": {
        "id": "vvw_5RymOG9Z"
      },
      "source": [
        "### Realizar la operación\n",
        "\n",
        "Con los valores obtenidos, es el momento de añadir el código para realizar la operación. Restarás el primer planeta del segundo para determinar la distancia en kilómetros. A continuación, puedes convertir la distancia del kilómetro en millas multiplicándola por `0.621`."
      ]
    },
    {
      "cell_type": "code",
      "execution_count": 7,
      "metadata": {
        "id": "XNgvmYDfOG9b",
        "colab": {
          "base_uri": "https://localhost:8080/"
        },
        "outputId": "06cf735b-c949-4ac1-a319-3a095654368c"
      },
      "outputs": [
        {
          "output_type": "stream",
          "name": "stdout",
          "text": [
            "La distancia entre la Tierra y Júpiter son 628949330 km\n",
            "La distancia entre la Tierra y Júpiter son 390577533.93 mi\n"
          ]
        }
      ],
      "source": [
        "# Calcular la distancia entre planetas\n",
        "\n",
        "distancia_km = jupiter - tierra\n",
        "print( \"La distancia entre la Tierra y Júpiter son \" + str(distancia_km) + \" km\")\n",
        "\n",
        "distancia_mi = (jupiter - tierra) * 0.621\n",
        "print( \"La distancia entre la Tierra y Júpiter son \" + str(distancia_mi) + \" mi\")"
      ]
    },
    {
      "cell_type": "markdown",
      "metadata": {
        "id": "ttFzPrNCOG9d"
      },
      "source": [
        "### Prueba tu proyecto\n",
        "\n",
        "Con el código creado, ejecuta el notebook para obtener el resultado. Deberías recibir lo siguiente:\n",
        "\n",
        "```\n",
        "628949330\n",
        "390577534\n",
        "```\n",
        "\n",
        "> Recuerda: Lo importante es intentarlo, puedes auxiliarte de internet, libros, etc. El objetivo de una kata es la comprobación de la comprensión de la lección y su aplicación inmediata a la resolución de problemas. Go for it!\n",
        "\n",
        "---"
      ]
    },
    {
      "cell_type": "markdown",
      "metadata": {
        "id": "J4mVXpknOG9f"
      },
      "source": [
        "## Ejercicio 2: convierte cadenas en números y usa valores absolutos\n",
        "\n",
        "### Crear una aplicación para trabajar con números y entrada de usuario\n",
        "Con frecuencia, deberás convertir los valores de cadena en números para realizar correctamente diferentes operaciones o determinar el valor absoluto de un número.\n",
        "\n",
        "Para crear nuestra aplicación, queremos leer la distancia del sol para dos planetas, y luego mostrar la distancia entre los planetas. Haremos esto usando `input` para leer los valores, `int` para convertir a entero y luego `abs` para convertir el resultado en su valor absoluto."
      ]
    },
    {
      "cell_type": "markdown",
      "metadata": {
        "id": "UOe5yYoKOG9j"
      },
      "source": [
        "### Lee los valores\n",
        "Usando `input`, agrega el código para leer la distancia del sol para cada planeta, considerando 2 planetas."
      ]
    },
    {
      "cell_type": "code",
      "execution_count": 8,
      "metadata": {
        "id": "cS6M6ZEeOG9l",
        "colab": {
          "base_uri": "https://localhost:8080/"
        },
        "outputId": "86a0116a-bb1a-4d90-f510-9bfae232a517"
      },
      "outputs": [
        {
          "name": "stdout",
          "output_type": "stream",
          "text": [
            "¿Cuál es la distancia al Sol del primer planeta?152263485\n",
            "¿Cuál es la distancia al Sol del segundo planeta?785963241\n"
          ]
        }
      ],
      "source": [
        "# Almacenar las entradas del usuario\n",
        "#Pista: variable = input(\"¿Cuál es tu nombre?\")\n",
        "\n",
        "planeta1 = input( \"¿Cuál es la distancia al Sol del primer planeta?\")\n",
        "planeta2 = input( \"¿Cuál es la distancia al Sol del segundo planeta?\")"
      ]
    },
    {
      "cell_type": "markdown",
      "metadata": {
        "id": "AYG_BywrOG9m"
      },
      "source": [
        "### Convertir a número\n",
        "Debido a que `input` devuelve valores de cadena, necesitamos convertirlos en números. Para nuestro ejemplo, usaremos `int`"
      ]
    },
    {
      "cell_type": "code",
      "execution_count": 9,
      "metadata": {
        "id": "5HmJXAJGOG9o"
      },
      "outputs": [],
      "source": [
        "# Convierte las cadenas de ambos planetas a números enteros\n",
        "\n",
        "planeta1 = int(planeta1)\n",
        "planeta2 = int(planeta2)"
      ]
    },
    {
      "cell_type": "markdown",
      "metadata": {
        "id": "JRD7f8fQOG9q"
      },
      "source": [
        "### Realizar el cálculo y convertir a valor absoluto\n",
        "\n",
        "Con los valores almacenados como números, ahora puedes agregar el código para realizar el cálculo, restando el primer planeta del segundo. Debido a que el segundo planeta podría ser un número mayor, usarás `abs` para convertirlo a un valor absoluto. También agregarás el código para mostrar el resultado en millas multiplicando la distancia del kilómetro por 0.621"
      ]
    },
    {
      "cell_type": "code",
      "execution_count": 11,
      "metadata": {
        "id": "cvT_yGUaOG9s",
        "colab": {
          "base_uri": "https://localhost:8080/"
        },
        "outputId": "9808243d-70ac-4f92-adbe-38e18c496be2"
      },
      "outputs": [
        {
          "output_type": "stream",
          "name": "stdout",
          "text": [
            "633699756\n",
            "393527548.476\n"
          ]
        }
      ],
      "source": [
        "# Realizar el cálculo y determinar el valor absoluto\n",
        "distancia_planetas = abs(planeta1 - planeta2)\n",
        "print(distancia_planetas)\n",
        "\n",
        "# Convertir de KM a Millas\n",
        "distancia_planetas_mi = distancia_planetas * 0.621\n",
        "print(distancia_planetas_mi)"
      ]
    },
    {
      "cell_type": "markdown",
      "metadata": {
        "id": "GTG-dPAlOG9u"
      },
      "source": [
        "### Prueba tu aplicación\n",
        "Para probar el proyecto, ejecuta tu notebook. En la parte superior de vscode surgirá un cuadro de diálogo para que proporciones las distancias. Puede utilizar los datos de la tabla siguiente:\n",
        "\n",
        "| Planeta  | Distancia al sol |\n",
        "| ------- | ----------------- |\n",
        "| Mercurio | 57900000          |\n",
        "| Venus   | 108200000         |\n",
        "| Tierra   | 149600000         |\n",
        "| Marte    | 227900000         |\n",
        "| Júpiter | 778600000         |\n",
        "| Saturno  | 1433500000        |\n",
        "| Urano  | 2872500000        |\n",
        "| Neptuno | 4495100000        |"
      ]
    }
  ]
}